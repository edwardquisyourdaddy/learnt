{
 "cells": [
  {
   "cell_type": "code",
   "execution_count": 13,
   "metadata": {
    "collapsed": false
   },
   "outputs": [
    {
     "data": {
      "text/plain": [
       "             Open   High    Low  Close    Volume\n",
       "Date                                            \n",
       "2012-01-03  26.55  26.96  26.39  26.76  64735391\n",
       "2012-01-04  26.82  27.47  26.78  27.40  80519402\n",
       "2012-01-05  27.38  27.73  27.29  27.68  56082205"
      ]
     },
     "execution_count": 13,
     "metadata": {},
     "output_type": "execute_result"
    }
   ],
   "source": [
    "import pandas as pd\n",
    "import numpy as np\n",
    "import datetime\n",
    "import matplotlib.pyplot as plt\n",
    "#%matplotlib inline\n",
    "pd.set_option('display.notebook_repr_html', False)\n",
    "pd.set_option('display.max_columns', 15)\n",
    "pd.set_option('display.max_rows', 8)\n",
    "pd.set_option('precision', 3)\n",
    "\n",
    "from pandas_datareader import data as web\n",
    "\n",
    "start = datetime.datetime(2012, 1, 1)\n",
    "end = datetime.datetime(2012, 12, 30)\n",
    "\n",
    "#amzn = web.get_quote_yahoo('AMZN')\n",
    "#amzn\n",
    "msft = web.DataReader(\"MSFT\",\"google\",start,end)\n",
    "aapl = web.DataReader(\"AAPL\",'google',start,end)\n",
    "msft.head(3)"
   ]
  },
  {
   "cell_type": "code",
   "execution_count": 19,
   "metadata": {
    "collapsed": false
   },
   "outputs": [
    {
     "data": {
      "text/plain": [
       "             Open\n",
       "Date             \n",
       "2012-01-03  26.55\n",
       "2012-01-04  26.82\n",
       "2012-01-05  27.38"
      ]
     },
     "execution_count": 19,
     "metadata": {},
     "output_type": "execute_result"
    }
   ],
   "source": [
    "msftA01 = msft['2012-01'][['Open']]\n",
    "msftA02 = msft['2012-02'][['Open']]\n",
    "msftA01[:3]"
   ]
  },
  {
   "cell_type": "code",
   "execution_count": 20,
   "metadata": {
    "collapsed": false
   },
   "outputs": [
    {
     "data": {
      "text/plain": [
       "             Open\n",
       "Date             \n",
       "2012-02-01  29.79\n",
       "2012-02-02  29.90\n",
       "2012-02-03  30.14"
      ]
     },
     "execution_count": 20,
     "metadata": {},
     "output_type": "execute_result"
    }
   ],
   "source": [
    "msftA02[:3]"
   ]
  },
  {
   "cell_type": "code",
   "execution_count": 27,
   "metadata": {
    "collapsed": false
   },
   "outputs": [
    {
     "data": {
      "text/plain": [
       "             Open\n",
       "Date             \n",
       "2012-01-03  26.55\n",
       "2012-01-04  26.82\n",
       "2012-01-05  27.38\n",
       "2012-02-01  29.79\n",
       "2012-02-02  29.90\n",
       "2012-02-03  30.14"
      ]
     },
     "execution_count": 27,
     "metadata": {},
     "output_type": "execute_result"
    }
   ],
   "source": [
    "pd.concat([msftA01.head(3),msftA02.head(3)])"
   ]
  },
  {
   "cell_type": "code",
   "execution_count": 23,
   "metadata": {
    "collapsed": false
   },
   "outputs": [
    {
     "data": {
      "text/plain": [
       "             Open\n",
       "Date             \n",
       "2012-01-03  26.55\n",
       "2012-01-04  26.82\n",
       "2012-01-05  27.38\n",
       "2012-01-03  58.49\n",
       "2012-01-04  58.57\n",
       "2012-01-05  59.28"
      ]
     },
     "execution_count": 23,
     "metadata": {},
     "output_type": "execute_result"
    }
   ],
   "source": [
    "aaplA01 = aapl['2012-01'][['Open']]\n",
    "withDups = pd.concat([msftA01.head(3),aaplA01.head(3)])\n",
    "withDups"
   ]
  },
  {
   "cell_type": "code",
   "execution_count": 30,
   "metadata": {
    "collapsed": false
   },
   "outputs": [
    {
     "data": {
      "text/plain": [
       "             Open\n",
       "Date             \n",
       "2012-01-03  26.55\n",
       "2012-01-03  58.49"
      ]
     },
     "execution_count": 30,
     "metadata": {},
     "output_type": "execute_result"
    }
   ],
   "source": [
    "withDups.loc['2012-01-03']"
   ]
  },
  {
   "cell_type": "code",
   "execution_count": 32,
   "metadata": {
    "collapsed": false
   },
   "outputs": [
    {
     "data": {
      "text/plain": [
       "             Open  Close\n",
       "Date                    \n",
       "2012-01-03  26.55  26.76\n",
       "2012-01-04  26.82  27.40\n",
       "2012-01-05  27.38  27.68\n",
       "2012-01-06  27.53  28.10\n",
       "...           ...    ...\n",
       "2012-12-24  74.34  74.31\n",
       "2012-12-26  74.14  73.29\n",
       "2012-12-27  73.36  73.58\n",
       "2012-12-28  72.90  72.80\n",
       "\n",
       "[498 rows x 2 columns]"
      ]
     },
     "execution_count": 32,
     "metadata": {},
     "output_type": "execute_result"
    }
   ],
   "source": [
    "msftAV = msft[['Open','Close']]\n",
    "aaplAV = aapl[['Open','Close']]\n",
    "pd.concat([msftAV,aaplAV])"
   ]
  },
  {
   "cell_type": "code",
   "execution_count": 34,
   "metadata": {
    "collapsed": false
   },
   "outputs": [
    {
     "data": {
      "text/plain": [
       "            Close   Open\n",
       "Date                    \n",
       "2012-01-03  26.76  26.55\n",
       "2012-01-04  27.40  26.82\n",
       "2012-01-05  27.68  27.38\n",
       "2012-01-06  28.10  27.53\n",
       "...           ...    ...\n",
       "2012-12-24    NaN  74.34\n",
       "2012-12-26    NaN  74.14\n",
       "2012-12-27    NaN  73.36\n",
       "2012-12-28    NaN  72.90\n",
       "\n",
       "[498 rows x 2 columns]"
      ]
     },
     "execution_count": 34,
     "metadata": {},
     "output_type": "execute_result"
    }
   ],
   "source": [
    "aaplA = aapl[['Open']]\n",
    "pd.concat([msftAV,aaplA])"
   ]
  },
  {
   "cell_type": "code",
   "execution_count": 35,
   "metadata": {
    "collapsed": false
   },
   "outputs": [
    {
     "data": {
      "text/plain": [
       "             Open\n",
       "Date             \n",
       "2012-01-03  26.55\n",
       "2012-01-04  26.82\n",
       "2012-01-05  27.38\n",
       "2012-01-06  27.53\n",
       "...           ...\n",
       "2012-12-24  74.34\n",
       "2012-12-26  74.14\n",
       "2012-12-27  73.36\n",
       "2012-12-28  72.90\n",
       "\n",
       "[498 rows x 1 columns]"
      ]
     },
     "execution_count": 35,
     "metadata": {},
     "output_type": "execute_result"
    }
   ],
   "source": [
    "pd.concat([msftAV,aaplA],join='inner')"
   ]
  },
  {
   "cell_type": "code",
   "execution_count": 37,
   "metadata": {
    "collapsed": false
   },
   "outputs": [
    {
     "data": {
      "text/plain": [
       "             Open   Open\n",
       "Date                    \n",
       "2012-01-03  26.55  58.49\n",
       "2012-01-04  26.82  58.57\n",
       "2012-01-05  27.38  59.28\n",
       "2012-01-06  27.53  59.97\n",
       "...           ...    ...\n",
       "2012-12-24  27.20  74.34\n",
       "2012-12-26  27.03  74.14\n",
       "2012-12-27  26.89  73.36\n",
       "2012-12-28  26.71  72.90\n",
       "\n",
       "[249 rows x 2 columns]"
      ]
     },
     "execution_count": 37,
     "metadata": {},
     "output_type": "execute_result"
    }
   ],
   "source": [
    "msftA = msft[['Open']]\n",
    "closes = pd.concat([msftA,aaplA],axis=1)\n",
    "closes"
   ]
  },
  {
   "cell_type": "code",
   "execution_count": 39,
   "metadata": {
    "collapsed": false
   },
   "outputs": [
    {
     "data": {
      "text/plain": [
       "             MSFT          AAPL       \n",
       "             Open  Close   Open  Close\n",
       "Date                                  \n",
       "2012-01-03  26.55  26.76  58.49  58.75\n",
       "2012-01-04  26.82  27.40  58.57  59.06\n",
       "2012-01-05  27.38  27.68  59.28  59.72\n",
       "2012-01-06  27.53  28.10    NaN    NaN\n",
       "2012-01-09  28.05  27.74    NaN    NaN"
      ]
     },
     "execution_count": 39,
     "metadata": {},
     "output_type": "execute_result"
    }
   ],
   "source": [
    "pd.concat([msftAV[:5],aaplAV[:3]],axis=1,keys=['MSFT','AAPL'])"
   ]
  },
  {
   "cell_type": "code",
   "execution_count": 42,
   "metadata": {
    "collapsed": false
   },
   "outputs": [
    {
     "data": {
      "text/plain": [
       "             MSFT   AAPL\n",
       "             Open   Open\n",
       "Date                    \n",
       "2012-01-03  26.55  58.49\n",
       "2012-01-04  26.82  58.57\n",
       "2012-01-05  27.38  59.28"
      ]
     },
     "execution_count": 42,
     "metadata": {},
     "output_type": "execute_result"
    }
   ],
   "source": [
    "pd.concat([msftA[:5],aaplA[:3]],axis=1,join='inner',keys=['MSFT','AAPL'])"
   ]
  },
  {
   "cell_type": "code",
   "execution_count": 43,
   "metadata": {
    "collapsed": false
   },
   "outputs": [
    {
     "data": {
      "text/plain": [
       "    Open\n",
       "0  26.55\n",
       "1  26.82\n",
       "2  27.38\n",
       "3  58.49\n",
       "4  58.57\n",
       "5  59.28"
      ]
     },
     "execution_count": 43,
     "metadata": {},
     "output_type": "execute_result"
    }
   ],
   "source": [
    "pd.concat([msftA[:3],aaplA[:3]],ignore_index=True)"
   ]
  },
  {
   "cell_type": "code",
   "execution_count": 48,
   "metadata": {
    "collapsed": false
   },
   "outputs": [
    {
     "data": {
      "text/plain": [
       "        Date   Open\n",
       "0 2012-01-03  26.55\n",
       "1 2012-01-04  26.82\n",
       "2 2012-01-05  27.38"
      ]
     },
     "execution_count": 48,
     "metadata": {},
     "output_type": "execute_result"
    }
   ],
   "source": [
    "msftAR = msftA.reset_index()\n",
    "msftVR = msft[['Close']].reset_index()\n",
    "msftAR[:3]"
   ]
  },
  {
   "cell_type": "code",
   "execution_count": 52,
   "metadata": {
    "collapsed": false
   },
   "outputs": [
    {
     "data": {
      "text/plain": [
       "        Date  Close\n",
       "0 2012-01-03  26.76\n",
       "1 2012-01-04  27.40\n",
       "2 2012-01-05  27.68"
      ]
     },
     "execution_count": 52,
     "metadata": {},
     "output_type": "execute_result"
    }
   ],
   "source": [
    "msftVR[:3]"
   ]
  },
  {
   "cell_type": "code",
   "execution_count": 53,
   "metadata": {
    "collapsed": false
   },
   "outputs": [
    {
     "data": {
      "text/plain": [
       "        Date   Open  Close\n",
       "0 2012-01-03  26.55  26.76\n",
       "1 2012-01-04  26.82  27.40\n",
       "2 2012-01-05  27.38  27.68\n",
       "3 2012-01-06  27.53  28.10\n",
       "4 2012-01-09  28.05  27.74"
      ]
     },
     "execution_count": 53,
     "metadata": {},
     "output_type": "execute_result"
    }
   ],
   "source": [
    "msftCVR = pd.merge(msftAR,msftVR)\n",
    "msftCVR[:5]"
   ]
  },
  {
   "cell_type": "code",
   "execution_count": 54,
   "metadata": {
    "collapsed": false
   },
   "outputs": [
    {
     "data": {
      "text/plain": [
       "        Date   Open\n",
       "0 2012-01-03  26.55\n",
       "1 2012-01-04  26.82\n",
       "2 2012-01-05  27.38\n",
       "3 2012-01-06  27.53\n",
       "4 2012-01-09  28.05"
      ]
     },
     "execution_count": 54,
     "metadata": {},
     "output_type": "execute_result"
    }
   ],
   "source": [
    "msftAR0_5 = msftAR[0:5]\n",
    "msftAR0_5"
   ]
  },
  {
   "cell_type": "code",
   "execution_count": 56,
   "metadata": {
    "collapsed": false
   },
   "outputs": [
    {
     "data": {
      "text/plain": [
       "        Date  Close\n",
       "2 2012-01-05  27.68\n",
       "3 2012-01-06  28.10"
      ]
     },
     "execution_count": 56,
     "metadata": {},
     "output_type": "execute_result"
    }
   ],
   "source": [
    "msftVR2_4 = msftVR[2:4]\n",
    "msftVR2_4"
   ]
  },
  {
   "cell_type": "code",
   "execution_count": 58,
   "metadata": {
    "collapsed": false
   },
   "outputs": [
    {
     "data": {
      "text/plain": [
       "        Date   Open  Close\n",
       "0 2012-01-05  27.38  27.68\n",
       "1 2012-01-06  27.53  28.10"
      ]
     },
     "execution_count": 58,
     "metadata": {},
     "output_type": "execute_result"
    }
   ],
   "source": [
    "pd.merge(msftAR0_5,msftVR2_4)"
   ]
  },
  {
   "cell_type": "code",
   "execution_count": 59,
   "metadata": {
    "collapsed": false
   },
   "outputs": [
    {
     "data": {
      "text/plain": [
       "        Date   Open  Close\n",
       "0 2012-01-03  26.55    NaN\n",
       "1 2012-01-04  26.82    NaN\n",
       "2 2012-01-05  27.38  27.68\n",
       "3 2012-01-06  27.53  28.10\n",
       "4 2012-01-09  28.05    NaN"
      ]
     },
     "execution_count": 59,
     "metadata": {},
     "output_type": "execute_result"
    }
   ],
   "source": [
    "pd.merge(msftAR0_5,msftVR2_4,how='outer')"
   ]
  },
  {
   "cell_type": "code",
   "execution_count": 61,
   "metadata": {
    "collapsed": false
   },
   "outputs": [
    {
     "data": {
      "text/plain": [
       "        Date   Open  Close\n",
       "0 2012-01-05  27.38  27.68\n",
       "1 2012-01-06  27.53  28.10"
      ]
     },
     "execution_count": 61,
     "metadata": {},
     "output_type": "execute_result"
    }
   ],
   "source": [
    "pd.merge(msftAR0_5,msftVR2_4,how='right')"
   ]
  }
 ],
 "metadata": {
  "kernelspec": {
   "display_name": "Python 3",
   "language": "python",
   "name": "python3"
  },
  "language_info": {
   "codemirror_mode": {
    "name": "ipython",
    "version": 3
   },
   "file_extension": ".py",
   "mimetype": "text/x-python",
   "name": "python",
   "nbconvert_exporter": "python",
   "pygments_lexer": "ipython3",
   "version": "3.6.1"
  }
 },
 "nbformat": 4,
 "nbformat_minor": 2
}
