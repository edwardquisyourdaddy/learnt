{
 "cells": [
  {
   "cell_type": "code",
   "execution_count": 13,
   "metadata": {
    "collapsed": false
   },
   "outputs": [
    {
     "data": {
      "text/plain": [
       "             Open   High    Low  Close    Volume\n",
       "Date                                            \n",
       "2012-01-03  26.55  26.96  26.39  26.76  64735391\n",
       "2012-01-04  26.82  27.47  26.78  27.40  80519402\n",
       "2012-01-05  27.38  27.73  27.29  27.68  56082205"
      ]
     },
     "execution_count": 13,
     "metadata": {},
     "output_type": "execute_result"
    }
   ],
   "source": [
    "import pandas as pd\n",
    "import numpy as np\n",
    "import datetime\n",
    "import matplotlib.pyplot as plt\n",
    "#%matplotlib inline\n",
    "pd.set_option('display.notebook_repr_html', False)\n",
    "pd.set_option('display.max_columns', 15)\n",
    "pd.set_option('display.max_rows', 8)\n",
    "pd.set_option('precision', 3)\n",
    "\n",
    "from pandas_datareader import data as web\n",
    "\n",
    "start = datetime.datetime(2012, 1, 1)\n",
    "end = datetime.datetime(2012, 12, 30)\n",
    "\n",
    "#amzn = web.get_quote_yahoo('AMZN')\n",
    "#amzn\n",
    "msft = web.DataReader(\"MSFT\",\"google\",start,end)\n",
    "aapl = web.DataReader(\"AAPL\",'google',start,end)\n",
    "msft.head(3)"
   ]
  },
  {
   "cell_type": "code",
   "execution_count": 19,
   "metadata": {
    "collapsed": false
   },
   "outputs": [
    {
     "data": {
      "text/plain": [
       "             Open\n",
       "Date             \n",
       "2012-01-03  26.55\n",
       "2012-01-04  26.82\n",
       "2012-01-05  27.38"
      ]
     },
     "execution_count": 19,
     "metadata": {},
     "output_type": "execute_result"
    }
   ],
   "source": [
    "msftA01 = msft['2012-01'][['Open']]\n",
    "msftA02 = msft['2012-02'][['Open']]\n",
    "msftA01[:3]"
   ]
  },
  {
   "cell_type": "code",
   "execution_count": 20,
   "metadata": {
    "collapsed": false
   },
   "outputs": [
    {
     "data": {
      "text/plain": [
       "             Open\n",
       "Date             \n",
       "2012-02-01  29.79\n",
       "2012-02-02  29.90\n",
       "2012-02-03  30.14"
      ]
     },
     "execution_count": 20,
     "metadata": {},
     "output_type": "execute_result"
    }
   ],
   "source": [
    "msftA02[:3]"
   ]
  },
  {
   "cell_type": "code",
   "execution_count": 27,
   "metadata": {
    "collapsed": false
   },
   "outputs": [
    {
     "data": {
      "text/plain": [
       "             Open\n",
       "Date             \n",
       "2012-01-03  26.55\n",
       "2012-01-04  26.82\n",
       "2012-01-05  27.38\n",
       "2012-02-01  29.79\n",
       "2012-02-02  29.90\n",
       "2012-02-03  30.14"
      ]
     },
     "execution_count": 27,
     "metadata": {},
     "output_type": "execute_result"
    }
   ],
   "source": [
    "pd.concat([msftA01.head(3),msftA02.head(3)])"
   ]
  },
  {
   "cell_type": "code",
   "execution_count": 23,
   "metadata": {
    "collapsed": false
   },
   "outputs": [
    {
     "data": {
      "text/plain": [
       "             Open\n",
       "Date             \n",
       "2012-01-03  26.55\n",
       "2012-01-04  26.82\n",
       "2012-01-05  27.38\n",
       "2012-01-03  58.49\n",
       "2012-01-04  58.57\n",
       "2012-01-05  59.28"
      ]
     },
     "execution_count": 23,
     "metadata": {},
     "output_type": "execute_result"
    }
   ],
   "source": [
    "aaplA01 = aapl['2012-01'][['Open']]\n",
    "withDups = pd.concat([msftA01.head(3),aaplA01.head(3)])\n",
    "withDups"
   ]
  },
  {
   "cell_type": "code",
   "execution_count": 30,
   "metadata": {
    "collapsed": false
   },
   "outputs": [
    {
     "data": {
      "text/plain": [
       "             Open\n",
       "Date             \n",
       "2012-01-03  26.55\n",
       "2012-01-03  58.49"
      ]
     },
     "execution_count": 30,
     "metadata": {},
     "output_type": "execute_result"
    }
   ],
   "source": [
    "withDups.loc['2012-01-03']"
   ]
  }
 ],
 "metadata": {
  "kernelspec": {
   "display_name": "Python 3",
   "language": "python",
   "name": "python3"
  },
  "language_info": {
   "codemirror_mode": {
    "name": "ipython",
    "version": 3
   },
   "file_extension": ".py",
   "mimetype": "text/x-python",
   "name": "python",
   "nbconvert_exporter": "python",
   "pygments_lexer": "ipython3",
   "version": "3.6.1"
  }
 },
 "nbformat": 4,
 "nbformat_minor": 2
}
